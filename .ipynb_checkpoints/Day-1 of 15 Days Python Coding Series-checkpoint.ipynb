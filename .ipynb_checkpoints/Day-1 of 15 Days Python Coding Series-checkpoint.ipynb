{
 "cells": [
  {
   "cell_type": "markdown",
   "id": "00b3ebba",
   "metadata": {},
   "source": [
    "### 1- Write a Python program to print “Hello World!”"
   ]
  },
  {
   "cell_type": "markdown",
   "id": "a6e8b893",
   "metadata": {},
   "source": [
    "### 2- Write a Python program to do arithmetical operations addition and division."
   ]
  },
  {
   "cell_type": "markdown",
   "id": "9c5a5750",
   "metadata": {},
   "source": [
    "### 3- Write a Python program to find the area of a triangle."
   ]
  },
  {
   "cell_type": "markdown",
   "id": "10dbc3ce",
   "metadata": {},
   "source": [
    "### 4- Write a Python program to swap two variables."
   ]
  },
  {
   "cell_type": "markdown",
   "id": "3de66bff",
   "metadata": {},
   "source": [
    "### 5- Write a Python program to generate a random number."
   ]
  },
  {
   "cell_type": "markdown",
   "id": "3b9ee9cd",
   "metadata": {},
   "source": [
    "### 6- Write a Python program to convert kilometers to miles."
   ]
  },
  {
   "cell_type": "markdown",
   "id": "b8131b17",
   "metadata": {},
   "source": [
    "### 7- Write a Python program to convert Celsius to Fahrenheit."
   ]
  },
  {
   "cell_type": "markdown",
   "id": "79f32d19",
   "metadata": {},
   "source": [
    "### 8- Write a Python program to display calendar?"
   ]
  },
  {
   "cell_type": "markdown",
   "id": "5b325610",
   "metadata": {},
   "source": [
    "### 9- Write a Python program to solve quadratic equation."
   ]
  },
  {
   "cell_type": "raw",
   "id": "e86a5f31",
   "metadata": {},
   "source": [
    "The standard form of a quadratic equation is:                                                           \n",
    "𝑎𝑥^2 + 𝑏𝑥 + 𝑐 = 0\n",
    " where a, b and c are real numbers and 𝑎 ≠ 0. \n",
    "The solutions of this quadratic equation is given by: \n",
    "(−𝑏 ± ((𝑏^2 − 4𝑎𝑐)^(1/2))/(2𝑎)\n",
    "\n",
    "1- When discriminant (b^2-4ac) is greater than 0, then we have Two real and\n",
    "distinct roots: \n",
    "root1 = (-b + math.sqrt(discriminant)) / (2*a) \n",
    "root2 = (-b - math.sqrt(discriminant)) / (2*a)\n",
    "2- When discriminant (b^2-4ac) is 0, then we have One real root (repeated): \n",
    "root = -b / (2*a)\n",
    "3- When discriminant (b^2-4ac) is less than 0, then we have two complex roots: \n",
    "real_part = -b / (2*a) \n",
    "imaginary_part = math.sqrt(abs(discriminant)) / (2*a) \n",
    "Root 1: {real_part} + {imaginary_part} i\n",
    "Root 2: {real_part} - {imaginary_part} i"
   ]
  },
  {
   "cell_type": "markdown",
   "id": "86bc1d2f",
   "metadata": {},
   "source": [
    "### 10- Write a Python program to swap two variables without temp variable. "
   ]
  },
  {
   "cell_type": "code",
   "execution_count": null,
   "id": "fb1203cc",
   "metadata": {},
   "outputs": [],
   "source": []
  }
 ],
 "metadata": {
  "kernelspec": {
   "display_name": "Python 3 (ipykernel)",
   "language": "python",
   "name": "python3"
  },
  "language_info": {
   "codemirror_mode": {
    "name": "ipython",
    "version": 3
   },
   "file_extension": ".py",
   "mimetype": "text/x-python",
   "name": "python",
   "nbconvert_exporter": "python",
   "pygments_lexer": "ipython3",
   "version": "3.10.11"
  }
 },
 "nbformat": 4,
 "nbformat_minor": 5
}
