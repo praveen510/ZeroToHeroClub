{
 "cells": [
  {
   "cell_type": "markdown",
   "id": "00b3ebba",
   "metadata": {},
   "source": [
    "### 1- Write a Python program to print “Hello World!”"
   ]
  },
  {
   "cell_type": "code",
   "execution_count": 2,
   "id": "110f1e82",
   "metadata": {},
   "outputs": [
    {
     "name": "stdout",
     "output_type": "stream",
     "text": [
      "Hello World!\n"
     ]
    }
   ],
   "source": [
    "print('Hello World!')"
   ]
  },
  {
   "cell_type": "code",
   "execution_count": 3,
   "id": "ac5117a3",
   "metadata": {},
   "outputs": [
    {
     "name": "stdout",
     "output_type": "stream",
     "text": [
      "Hello World!\n"
     ]
    }
   ],
   "source": [
    "msg=\"Hello World!\"\n",
    "print(msg)"
   ]
  },
  {
   "cell_type": "code",
   "execution_count": 5,
   "id": "71f466dc",
   "metadata": {},
   "outputs": [
    {
     "name": "stdout",
     "output_type": "stream",
     "text": [
      "Hello World!\n"
     ]
    }
   ],
   "source": [
    "def msg():\n",
    "    print(\"Hello World!\")\n",
    "    \n",
    "msg()"
   ]
  },
  {
   "cell_type": "markdown",
   "id": "a6e8b893",
   "metadata": {},
   "source": [
    "### 2- Write a Python program to do arithmetical operations addition and division."
   ]
  },
  {
   "cell_type": "code",
   "execution_count": 7,
   "id": "f053b760",
   "metadata": {},
   "outputs": [
    {
     "name": "stdout",
     "output_type": "stream",
     "text": [
      "Enter 1st number:3\n",
      "Enter 2nd number:0\n",
      "Addtion of 3.0 and 0.0 is 3.0\n",
      "Divison of 3.0 and 0.0 is Denominator should not be 0\n"
     ]
    }
   ],
   "source": [
    "def add(num1,num2):\n",
    "    return num1+num2\n",
    "\n",
    "def div(num1,num2):\n",
    "    if num2==0:\n",
    "        return \"Denominator should not be 0\"\n",
    "    else:\n",
    "        return num1/num2\n",
    "\n",
    "num1=float(input(\"Enter 1st number:\"))\n",
    "num2=float(input(\"Enter 2nd number:\"))\n",
    "print(f\"Addtion of {num1} and {num2} is {add(num1,num2)}\")\n",
    "print(f\"Divison of {num1} and {num2} is {div(num1,num2)}\")"
   ]
  },
  {
   "cell_type": "markdown",
   "id": "9c5a5750",
   "metadata": {},
   "source": [
    "### 3- Write a Python program to find the area of a triangle."
   ]
  },
  {
   "cell_type": "code",
   "execution_count": 8,
   "id": "d6320fc2",
   "metadata": {},
   "outputs": [
    {
     "name": "stdout",
     "output_type": "stream",
     "text": [
      "Enter the base of triangle:5\n",
      "Enter the height of the triangle:10\n",
      "Area of triangle having base 5.0 and height 10.0 is 25.0\n"
     ]
    }
   ],
   "source": [
    "#Area of triangle = 1/2 * base * height\n",
    "def areaOfTriangle(base,height):\n",
    "    return (1/2)*(base*height)\n",
    "\n",
    "base=float(input(\"Enter the base of triangle:\"))\n",
    "height=float(input(\"Enter the height of the triangle:\"))\n",
    "print(f\"Area of triangle having base {base} and height {height} is {areaOfTriangle(base,height)}\")"
   ]
  },
  {
   "cell_type": "markdown",
   "id": "10dbc3ce",
   "metadata": {},
   "source": [
    "### 4- Write a Python program to swap two variables."
   ]
  },
  {
   "cell_type": "code",
   "execution_count": 10,
   "id": "16374e64",
   "metadata": {},
   "outputs": [
    {
     "name": "stdout",
     "output_type": "stream",
     "text": [
      "Before swapping a:3 and b:5 is (3, 5)\n",
      "After swapping a:5 and b:3 is (5, 3)\n"
     ]
    }
   ],
   "source": [
    "a=3\n",
    "b=5\n",
    "\n",
    "print(f\"Before swapping a:{a} and b:{b} is {a,b}\")\n",
    "temp=a\n",
    "a=b\n",
    "b=temp\n",
    "print(f\"After swapping a:{a} and b:{b} is {a,b}\")"
   ]
  },
  {
   "cell_type": "markdown",
   "id": "3de66bff",
   "metadata": {},
   "source": [
    "### 5- Write a Python program to generate a random number."
   ]
  },
  {
   "cell_type": "code",
   "execution_count": 13,
   "id": "b744633a",
   "metadata": {},
   "outputs": [
    {
     "name": "stdout",
     "output_type": "stream",
     "text": [
      "66\n"
     ]
    }
   ],
   "source": [
    "import random as r\n",
    "res=r.randint(0,100)\n",
    "print(res)"
   ]
  },
  {
   "cell_type": "markdown",
   "id": "3b9ee9cd",
   "metadata": {},
   "source": [
    "### 6- Write a Python program to convert kilometers to miles."
   ]
  },
  {
   "cell_type": "code",
   "execution_count": 15,
   "id": "b32309ee",
   "metadata": {},
   "outputs": [
    {
     "name": "stdout",
     "output_type": "stream",
     "text": [
      "Enter the distance in Km2\n",
      "Km of 2.0 is 1.242742 miles\n"
     ]
    }
   ],
   "source": [
    "def km2miles(distance):\n",
    "    return distance*0.621371\n",
    "\n",
    "distance=float(input(\"Enter the distance in Km\"))\n",
    "print(f\"Km of {distance} is {km2miles(distance)} miles\")"
   ]
  },
  {
   "cell_type": "markdown",
   "id": "b8131b17",
   "metadata": {},
   "source": [
    "### 7- Write a Python program to convert Celsius to Fahrenheit."
   ]
  },
  {
   "cell_type": "code",
   "execution_count": 17,
   "id": "b15d75b5",
   "metadata": {},
   "outputs": [
    {
     "name": "stdout",
     "output_type": "stream",
     "text": [
      "Enter the temp in celcius:15\n",
      "Celcius of 15.0 is 59.0 Fahrenheit\n"
     ]
    }
   ],
   "source": [
    "def c2f(cel):\n",
    "    return (cel*(9/5))+32\n",
    "\n",
    "cel=float(input(\"Enter the temp in celcius:\"))\n",
    "print(f\"Celcius of {cel} is {c2f(cel)} Fahrenheit\")"
   ]
  },
  {
   "cell_type": "markdown",
   "id": "79f32d19",
   "metadata": {},
   "source": [
    "### 8- Write a Python program to display calendar?"
   ]
  },
  {
   "cell_type": "code",
   "execution_count": 18,
   "id": "a998e689",
   "metadata": {},
   "outputs": [
    {
     "name": "stdout",
     "output_type": "stream",
     "text": [
      "Enter the year: 2025\n",
      "Enter the month: 5\n",
      "Calendar of year 2025 and month 5 is:\n",
      "      May 2025\n",
      "Mo Tu We Th Fr Sa Su\n",
      "          1  2  3  4\n",
      " 5  6  7  8  9 10 11\n",
      "12 13 14 15 16 17 18\n",
      "19 20 21 22 23 24 25\n",
      "26 27 28 29 30 31\n",
      "\n"
     ]
    }
   ],
   "source": [
    "import calendar as c\n",
    "def printCalendar(year,month):\n",
    "    return c.month(year,month)\n",
    "\n",
    "year=int(input(\"Enter the year: \"))\n",
    "month=int(input(\"Enter the month: \"))\n",
    "print(f\"Calendar of year {year} and month {month} is:\")\n",
    "print(printCalendar(year,month))"
   ]
  },
  {
   "cell_type": "markdown",
   "id": "5b325610",
   "metadata": {},
   "source": [
    "### 9- Write a Python program to solve quadratic equation."
   ]
  },
  {
   "cell_type": "raw",
   "id": "e86a5f31",
   "metadata": {},
   "source": [
    "The standard form of a quadratic equation is:                                                           \n",
    "𝑎𝑥^2 + 𝑏𝑥 + 𝑐 = 0\n",
    " where a, b and c are real numbers and 𝑎 ≠ 0. \n",
    "The solutions of this quadratic equation is given by: \n",
    "(−𝑏 ± ((𝑏^2 − 4𝑎𝑐)^(1/2))/(2𝑎)\n",
    "\n",
    "1- When discriminant (b^2-4ac) is greater than 0, then we have Two real and\n",
    "distinct roots: \n",
    "root1 = (-b + math.sqrt(discriminant)) / (2*a) \n",
    "root2 = (-b - math.sqrt(discriminant)) / (2*a)\n",
    "2- When discriminant (b^2-4ac) is 0, then we have One real root (repeated): \n",
    "root = -b / (2*a)\n",
    "3- When discriminant (b^2-4ac) is less than 0, then we have two complex roots: \n",
    "real_part = -b / (2*a) \n",
    "imaginary_part = math.sqrt(abs(discriminant)) / (2*a) \n",
    "Root 1: {real_part} + {imaginary_part} i\n",
    "Root 2: {real_part} - {imaginary_part} i"
   ]
  },
  {
   "cell_type": "code",
   "execution_count": 29,
   "id": "1db7c003",
   "metadata": {},
   "outputs": [
    {
     "name": "stdout",
     "output_type": "stream",
     "text": [
      "Root1: -0.67+1.11i\n",
      "Root2: -0.67-1.11i\n"
     ]
    }
   ],
   "source": [
    "import math\n",
    "\n",
    "def quadraticEqu(a,b,c):\n",
    "    discriminant=(b**2 - 4*a*c)\n",
    "    if discriminant>0:\n",
    "        root1=(-b + math.sqrt(discriminant)) / (2*a)\n",
    "        root2=(-b - math.sqrt(discriminant)) / (2*a)\n",
    "        print(f\"Roots are real and distinct: {root1} and {root2}\")\n",
    "    elif discriminant==0:\n",
    "        root = -b / (2*a)\n",
    "        print(f\"Roots are repeated: {root}\")\n",
    "    elif discriminant<0:\n",
    "        real_part = -b / (2*a) \n",
    "        imaginary_part = math.sqrt(abs(discriminant)) / (2*a)\n",
    "        print(f\"Root1: {real_part:.2f}+{imaginary_part:.2f}i\")\n",
    "        print(f\"Root2: {real_part:.2f}-{imaginary_part:.2f}i\")\n",
    "        \n",
    "quadraticEqu(3,4,5)"
   ]
  },
  {
   "cell_type": "markdown",
   "id": "86bc1d2f",
   "metadata": {},
   "source": [
    "### 10- Write a Python program to swap two variables without temp variable. "
   ]
  },
  {
   "cell_type": "code",
   "execution_count": 31,
   "id": "fb1203cc",
   "metadata": {},
   "outputs": [
    {
     "name": "stdout",
     "output_type": "stream",
     "text": [
      "Before swapping (4, 5)\n",
      "After swapping (5, 4)\n"
     ]
    }
   ],
   "source": [
    "#Method1\n",
    "a,b=4,5\n",
    "print(f\"Before swapping\",(a,b))\n",
    "b,a=a,b\n",
    "print(f\"After swapping\",(a,b))"
   ]
  },
  {
   "cell_type": "code",
   "execution_count": 32,
   "id": "c734d619",
   "metadata": {},
   "outputs": [
    {
     "name": "stdout",
     "output_type": "stream",
     "text": [
      "Before swapping (4, 5)\n",
      "After swapping (5, 4)\n"
     ]
    }
   ],
   "source": [
    "#Method2\n",
    "\n",
    "a,b=4,5\n",
    "print(f\"Before swapping\",(a,b))\n",
    "a=a+b\n",
    "b=a-b\n",
    "a=a-b\n",
    "print(f\"After swapping\",(a,b))"
   ]
  },
  {
   "cell_type": "code",
   "execution_count": null,
   "id": "ae655c0e",
   "metadata": {},
   "outputs": [],
   "source": []
  }
 ],
 "metadata": {
  "kernelspec": {
   "display_name": "Python 3 (ipykernel)",
   "language": "python",
   "name": "python3"
  },
  "language_info": {
   "codemirror_mode": {
    "name": "ipython",
    "version": 3
   },
   "file_extension": ".py",
   "mimetype": "text/x-python",
   "name": "python",
   "nbconvert_exporter": "python",
   "pygments_lexer": "ipython3",
   "version": "3.9.12"
  }
 },
 "nbformat": 4,
 "nbformat_minor": 5
}
